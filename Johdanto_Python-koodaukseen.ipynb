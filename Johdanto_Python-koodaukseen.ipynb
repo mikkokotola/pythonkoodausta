{
 "cells": [
  {
   "cell_type": "markdown",
   "metadata": {},
   "source": [
    "# Johdanto Python-koodaukseen"
   ]
  },
  {
   "cell_type": "markdown",
   "metadata": {},
   "source": [
    "Tervetuloa koodaamaan Pythonilla!\n",
    "\n",
    "Python on yksi yleisimmistä ohjelmointikielistä. Ohjelmointikieli taas on tapa kertoa tietokoneelle, mitä sen pitää tehdä. Tietokone ei tee itsestään mitään - koodarin pitää aina kertoa sille mitä tehdä! Python on kirjoitusasultaan eli syntaksiltaan helppo kieli, joten se sopii hyvin koodauksen aloittamiseen. \n",
    "\n",
    "Eiköhän aleta hommiin. \n",
    "\n",
    "## Tulostaminen\n",
    "Opetellaan ensimmäiseksi tulostamaan tekstiä näytölle. Tulostaminen tehdään komennolla eli funktiolla *print()*. Funktiolle annetaan sulkujen sisälle tulostettava teksti. Tekstin pitää olla heittomerkkien ' ' tai lainausmerkkien \" \" sisällä.\n",
    "\n",
    "Tämä ohjelma tulostaa tekstin *Minä olen tietokone*."
   ]
  },
  {
   "cell_type": "code",
   "execution_count": 1,
   "metadata": {},
   "outputs": [
    {
     "name": "stdout",
     "output_type": "stream",
     "text": [
      "Minä olen tietokone.\n"
     ]
    }
   ],
   "source": [
    "print('Minä olen tietokone.')"
   ]
  },
  {
   "cell_type": "markdown",
   "metadata": {},
   "source": [
    "Käytetään jatkossa yksittäisiä heittomerkkejä, koska ne on yleensä näppäimistöissä helpompi kirjoittaa.\n",
    "\n",
    "Voimme tulostaa tekstin lisäksi myös numeroita, kuten tässä:"
   ]
  },
  {
   "cell_type": "code",
   "execution_count": 2,
   "metadata": {},
   "outputs": [
    {
     "name": "stdout",
     "output_type": "stream",
     "text": [
      "42\n"
     ]
    }
   ],
   "source": [
    "print(42)"
   ]
  },
  {
   "cell_type": "markdown",
   "metadata": {},
   "source": [
    "Python osaa myös laskea. Lasketaanpa yksinkertainen yhteenlasku ja tulostetaan tulos."
   ]
  },
  {
   "cell_type": "code",
   "execution_count": 3,
   "metadata": {},
   "outputs": [
    {
     "name": "stdout",
     "output_type": "stream",
     "text": [
      "7\n"
     ]
    }
   ],
   "source": [
    "print(2 + 5)"
   ]
  },
  {
   "cell_type": "markdown",
   "metadata": {},
   "source": [
    "Huomaa, että lasku suoritettiin ensin ja ainoastaan laskun lopputulos tulostettiin näytölle.\n",
    "\n",
    "Pythonissa voi myös tulostaa useita tekstejä ja numeroita samalla *print*-komennolla. Tällöin ne erotetaan pilkulla. Python laittaa automaattisesti yhden välilyönnin eri osien väliin."
   ]
  },
  {
   "cell_type": "code",
   "execution_count": 23,
   "metadata": {},
   "outputs": [
    {
     "name": "stdout",
     "output_type": "stream",
     "text": [
      "Tulostetaan laskun lopputulos:  7\n"
     ]
    }
   ],
   "source": [
    "print('Tulostetaan laskun lopputulos:', 7)"
   ]
  },
  {
   "cell_type": "markdown",
   "metadata": {},
   "source": [
    "Nyt olet lukenut jo tarpeeksi. Sinun vuorosi aloittaa koodaaminen!\n",
    "\n",
    "**Tee nyt tehtävät 1 ja 2**"
   ]
  },
  {
   "cell_type": "markdown",
   "metadata": {},
   "source": [
    "## Muuttujat\n",
    "Voimme tallentaa tekstiä ja numeroita myös muuttujiin. Muuttuja on eräänlainen lokero, jonne asetetaan aina yksi asia kerrallaan. Lokeroon voi asettaa uuden asian, mutta samalla aiempi asia katoaa. Sen arvo voi muuttua ohjelman suorituksen aikana. Eli ensin sille voi asentaa arvon *kissa* ja myöhemmin asettaa arvon *koira*, kuten tässä:"
   ]
  },
  {
   "cell_type": "code",
   "execution_count": 4,
   "metadata": {},
   "outputs": [
    {
     "name": "stdout",
     "output_type": "stream",
     "text": [
      "kissa\n",
      "koira\n"
     ]
    }
   ],
   "source": [
    "# Otetaan käyttöön muuttuja 'teksti' ja asetetaan sille arvo 'kissa'\n",
    "teksti = 'kissa'\n",
    "\n",
    "# Tulostetaan muuttujan 'teksti' nykyinen arvo\n",
    "print(teksti)\n",
    "\n",
    "# Asetetaan muuttujalle 'teksti' arvo 'koira'\n",
    "teksti = 'koira'\n",
    "\n",
    "# Tulostetaan muuttujan 'teksti' nykyinen arvo. Arvo on nyt 'koira'.\n",
    "print(teksti)"
   ]
  },
  {
   "cell_type": "markdown",
   "metadata": {},
   "source": [
    "Muuttujissa olevia numeroita voi käyttää osana laskutoimituksia:"
   ]
  },
  {
   "cell_type": "code",
   "execution_count": 22,
   "metadata": {},
   "outputs": [
    {
     "name": "stdout",
     "output_type": "stream",
     "text": [
      "Numeron arvo on 2\n",
      "2 + 7 on 9\n"
     ]
    }
   ],
   "source": [
    "# Otetaan käyttöön toinen muuttuja, 'numero' ja asetetaan sille arvo 2.\n",
    "numero = 2\n",
    "\n",
    "# Tulostetaan muuttujan 'numero' nykyinen arvo\n",
    "print('Numeron arvo on', numero)\n",
    "\n",
    "# Lisätään muuttujan 'numero' arvoon 7\n",
    "tulos = numero + 7\n",
    "\n",
    "# Tulostetaan laskun tulos\n",
    "print(numero, '+ 7 on', tulos)"
   ]
  },
  {
   "cell_type": "markdown",
   "metadata": {},
   "source": [
    "**Tee nyt tehtävä 3**"
   ]
  },
  {
   "cell_type": "markdown",
   "metadata": {},
   "source": [
    "## Syötteen lukeminen\n",
    "Ohjelmissamme olisi kiva saada käyttäjä tekemään jotakin. Pythonissa käyttäjää voi pyytää syöttämään tekstiä funktiolla *input()*. Sulkujen sisään ei ole pakko laittaa mitään. Mutta sulkujen sisään on usein kätevää laittaa kysymys tai ohje siitä, mitä käyttäjän odotetaan tekevän."
   ]
  },
  {
   "cell_type": "code",
   "execution_count": 18,
   "metadata": {},
   "outputs": [
    {
     "name": "stdout",
     "output_type": "stream",
     "text": [
      "Mikä on nimesi? Mikko\n",
      "Heippa Mikko\n"
     ]
    }
   ],
   "source": [
    "# Kysytään käyttäjältä nimeä ja kun hän syöttää nimensä, tallennetaan se muuttujaan 'nimi'.\n",
    "nimi = input('Mikä on nimesi? ')\n",
    "\n",
    "# Tervehditään käyttäjää hänen nimellään\n",
    "print('Heippa', nimi)"
   ]
  },
  {
   "cell_type": "markdown",
   "metadata": {},
   "source": [
    "Hienoa, nyt voimme tehdä ohjelmia, joissa käyttäjältä kysytään jotain. Kokeillaan heti!\n",
    "\n",
    "**Tee nyt tehtävät 4 ja 5**"
   ]
  },
  {
   "cell_type": "markdown",
   "metadata": {},
   "source": [
    "## Toisto\n",
    "Tietokoneet ovat erittäin hyviä toistamaan asioita. Koodari säästää itseltään paljon vaivaa käyttämällä toistolausekkeita. Jos esimerkiksi pitää tulostaa luvut yhdestä kymmeneen, yksi tapa toteuttaa ohjelma on kirjoittaa jokainen tulostusrivi erikseen: "
   ]
  },
  {
   "cell_type": "code",
   "execution_count": 7,
   "metadata": {},
   "outputs": [
    {
     "name": "stdout",
     "output_type": "stream",
     "text": [
      "1\n",
      "2\n",
      "3\n",
      "4\n",
      "5\n",
      "6\n",
      "7\n",
      "8\n",
      "9\n",
      "10\n"
     ]
    }
   ],
   "source": [
    "print(1)\n",
    "print(2)\n",
    "print(3)\n",
    "print(4)\n",
    "print(5)\n",
    "print(6)\n",
    "print(7)\n",
    "print(8)\n",
    "print(9)\n",
    "print(10)"
   ]
  },
  {
   "cell_type": "markdown",
   "metadata": {},
   "source": [
    "Mutta helpommalla pääsee kun toteuttaa saman while-toistolauseella eli while-silmukalla:"
   ]
  },
  {
   "cell_type": "code",
   "execution_count": 11,
   "metadata": {},
   "outputs": [
    {
     "name": "stdout",
     "output_type": "stream",
     "text": [
      "1\n",
      "2\n",
      "3\n",
      "4\n",
      "5\n",
      "6\n",
      "7\n",
      "8\n",
      "9\n",
      "10\n"
     ]
    }
   ],
   "source": [
    "i = 1\n",
    "while i <= 10:\n",
    "  print(i)\n",
    "  i = i + 1"
   ]
  },
  {
   "cell_type": "markdown",
   "metadata": {},
   "source": [
    "Tutkitaanpa edeltävää while-silmukkaa tarkemmin. Ensin asetetaan muuttujalle *i*, joka toimii laskurina, aloitusarvo 1. Sitten määritellään silmukka. Se alkaa sanalla *while*, joka kertoo, että kyse on while-silmukasta, jossa tehdään jotakin niin kauan kuin tietty ehto toteutuu. While-sanan perässä tuleekin sitten tuo toistoehto: *i <= 10*. Tämä luetaan *ii on pienempi tai yhtä suuri kuin kymmenen*. Eli tuo toistoehto on tosi silloin kun i on pienempi tai yhtä suuri kuin kymmenen: jos i on 2, niin ehto on tosi, koska 2 on pienempi tai yhtä suuri luku kuin 10. Jos i on 11, ehto ei ole tosi, sillä 11 ei ole pienempi tai yhtä suuri kuin 10.\n",
    "\n",
    "Sitten tulee sisennetty osa eli *lohko*. Tämä on se koodi, jota silmukka toistaa. Sisennettyä eli toistettavaa koodia on kaksi riviä. Ensin tulostetaan muuttujan i arvo *print(i)* ja sitten lisätään muuttujan i arvoon yksi *i = i + 1*. Silmukan ensimmäisellä suorituskerralla muuttujan i arvon on 1. Ensimmäisen kerran lopuksi se kasvaa 2:een. Sitten palataan silmukan alkuun ja arvioidaan, onko toistoehto edelleen tosi. Näin jatketaan niin kauan kuin ehto ei enää ole tosi. Sitten silmukka päättyy ja koodin suoritus jatkuu silmukan koodin alapuolelta. Tässä vielä versio samasta silmukasta, jossa tulostetaan välitilanteita jotta näkyisi, mitä silmukassa tapahtuu."
   ]
  },
  {
   "cell_type": "code",
   "execution_count": 17,
   "metadata": {},
   "outputs": [
    {
     "name": "stdout",
     "output_type": "stream",
     "text": [
      "i:n alkuarvo on 1\n",
      "Tarkastimme toistoehdon ja se oli tosi. Olemme silmukan sisällä. i:n arvo on:\n",
      "1\n",
      "Lisätään i:n arvoon yksi.\n",
      "i:n arvo on nyt 2\n",
      "Seuraavaksi tarkastetaan onko toistoehto vielä totta eli jatketaanko vielä uudelle kierrokselle silmukassa\n",
      "\n",
      "Tarkastimme toistoehdon ja se oli tosi. Olemme silmukan sisällä. i:n arvo on:\n",
      "2\n",
      "Lisätään i:n arvoon yksi.\n",
      "i:n arvo on nyt 3\n",
      "Seuraavaksi tarkastetaan onko toistoehto vielä totta eli jatketaanko vielä uudelle kierrokselle silmukassa\n",
      "\n",
      "Tarkastimme toistoehdon ja se oli tosi. Olemme silmukan sisällä. i:n arvo on:\n",
      "3\n",
      "Lisätään i:n arvoon yksi.\n",
      "i:n arvo on nyt 4\n",
      "Seuraavaksi tarkastetaan onko toistoehto vielä totta eli jatketaanko vielä uudelle kierrokselle silmukassa\n",
      "\n",
      "Tarkastimme toistoehdon ja se oli tosi. Olemme silmukan sisällä. i:n arvo on:\n",
      "4\n",
      "Lisätään i:n arvoon yksi.\n",
      "i:n arvo on nyt 5\n",
      "Seuraavaksi tarkastetaan onko toistoehto vielä totta eli jatketaanko vielä uudelle kierrokselle silmukassa\n",
      "\n",
      "Tarkastimme toistoehdon ja se oli tosi. Olemme silmukan sisällä. i:n arvo on:\n",
      "5\n",
      "Lisätään i:n arvoon yksi.\n",
      "i:n arvo on nyt 6\n",
      "Seuraavaksi tarkastetaan onko toistoehto vielä totta eli jatketaanko vielä uudelle kierrokselle silmukassa\n",
      "\n",
      "Tarkastimme toistoehdon ja se oli tosi. Olemme silmukan sisällä. i:n arvo on:\n",
      "6\n",
      "Lisätään i:n arvoon yksi.\n",
      "i:n arvo on nyt 7\n",
      "Seuraavaksi tarkastetaan onko toistoehto vielä totta eli jatketaanko vielä uudelle kierrokselle silmukassa\n",
      "\n",
      "Tarkastimme toistoehdon ja se oli tosi. Olemme silmukan sisällä. i:n arvo on:\n",
      "7\n",
      "Lisätään i:n arvoon yksi.\n",
      "i:n arvo on nyt 8\n",
      "Seuraavaksi tarkastetaan onko toistoehto vielä totta eli jatketaanko vielä uudelle kierrokselle silmukassa\n",
      "\n",
      "Tarkastimme toistoehdon ja se oli tosi. Olemme silmukan sisällä. i:n arvo on:\n",
      "8\n",
      "Lisätään i:n arvoon yksi.\n",
      "i:n arvo on nyt 9\n",
      "Seuraavaksi tarkastetaan onko toistoehto vielä totta eli jatketaanko vielä uudelle kierrokselle silmukassa\n",
      "\n",
      "Tarkastimme toistoehdon ja se oli tosi. Olemme silmukan sisällä. i:n arvo on:\n",
      "9\n",
      "Lisätään i:n arvoon yksi.\n",
      "i:n arvo on nyt 10\n",
      "Seuraavaksi tarkastetaan onko toistoehto vielä totta eli jatketaanko vielä uudelle kierrokselle silmukassa\n",
      "\n",
      "Tarkastimme toistoehdon ja se oli tosi. Olemme silmukan sisällä. i:n arvo on:\n",
      "10\n",
      "Lisätään i:n arvoon yksi.\n",
      "i:n arvo on nyt 11\n",
      "Seuraavaksi tarkastetaan onko toistoehto vielä totta eli jatketaanko vielä uudelle kierrokselle silmukassa\n",
      "\n",
      "Toistoehto ei ollut enää tosi. Silmukka päättyi.\n"
     ]
    }
   ],
   "source": [
    "i = 1\n",
    "print('i:n alkuarvo on', i)\n",
    "while i <= 10:\n",
    "  print('Tarkastimme toistoehdon ja se oli tosi. Olemme silmukan sisällä. i:n arvo on:')\n",
    "  print(i)\n",
    "  print('Lisätään i:n arvoon yksi.')\n",
    "  i = i + 1\n",
    "  print('i:n arvo on nyt', i)\n",
    "  print('Seuraavaksi tarkastetaan onko toistoehto vielä totta eli jatketaanko vielä uudelle kierrokselle silmukassa')\n",
    "  print()\n",
    "\n",
    "print('Toistoehto ei ollut enää tosi. Silmukka päättyi.')"
   ]
  },
  {
   "cell_type": "markdown",
   "metadata": {},
   "source": [
    "Huh huh, aika pläjäys! Nyt sitten kokeilemaan toistoa itse!\n",
    "\n",
    "**Tee nyt tehtävät 6, 7 ja 8.**"
   ]
  },
  {
   "cell_type": "markdown",
   "metadata": {},
   "source": [
    "## Ehtolauseet\n",
    "Tähän asti ohjelmamme ovat edenneet alusta loppuun ja while-silmukan kohdalla toistaneet samaa asiaa useita kertoja. Seuraavaksi teemme ohjelman, jossa on kaksi vaihtoehtoista polkua. Ohjelma tarkastaa, asuuko käyttäjä Lahdessa."
   ]
  },
  {
   "cell_type": "code",
   "execution_count": 3,
   "metadata": {},
   "outputs": [
    {
     "name": "stdout",
     "output_type": "stream",
     "text": [
      "Mikä on kotikaupunkisi? Orimattila\n",
      "Et ole lahtelainen, ihan jees sekin.\n"
     ]
    }
   ],
   "source": [
    "kaupunki = input('Mikä on kotikaupunkisi? ')\n",
    "\n",
    "if kaupunki == 'Lahti':\n",
    "    print('Olet lahtelainen!')\n",
    "else:\n",
    "    print('Et ole lahtelainen, ihan jees sekin.')"
   ]
  },
  {
   "cell_type": "markdown",
   "metadata": {},
   "source": [
    "Kotikaupungin vertailu tehdään *if*-lauseella eli suomeksi jos-lauseella. Jos ehto on totta, suoritetaan ifin alla oleva sisennetty lohko. Jos ehto ei ole totta, siirrytään eteenpäin *else*-lauseeseen eli suomeksi 'muussa tapauksessa'-lauseeseen. Elsen alla oleva koodi suoritetaan jos ifin ehto ei ollut tosi. \n",
    "\n",
    "Itse vertailu tehdään erikoisella merkinnällä *==*. Tämä tarkoittaa Pythonissa yhtäsuuruutta. Eli jos *==*:n molemmilla puolilla on yhtä suuri asia, ehto on tosi. Muussa tapauksessa ehto on epätosi. Kun vertaillaan kahta tekstiä, ne ovat yhtä suuria jos ne ovat täsmälleen sama teksti.\n",
    "\n",
    "Katsotaan muutama lisäesimerkki *if*-lauseella vertailusta:"
   ]
  },
  {
   "cell_type": "code",
   "execution_count": 13,
   "metadata": {},
   "outputs": [
    {
     "name": "stdout",
     "output_type": "stream",
     "text": [
      "Tosi\n",
      "Epätosi\n",
      "Epätosi\n"
     ]
    }
   ],
   "source": [
    "if 'Lahti' == 'Lahti': # Tosi: sama teksti molemmilla puolilla\n",
    "    print('Tosi')\n",
    "else: \n",
    "    print('Epätosi')\n",
    "    \n",
    "if 'Lahti' == 'lahti':  # Epätosi: toinen alkaa isolla kirjaimella, toinen pienellä, joten ei ole sama teksti\n",
    "    print('Tosi')\n",
    "else: \n",
    "    print('Epätosi')\n",
    "    \n",
    "if 'Lahti' == 'Lahti ': # Epätosi: toisessa on välilyönti lopussa, joten ei ole sama teksti\n",
    "    print('Tosi')\n",
    "else: \n",
    "    print('Epätosi')\n"
   ]
  },
  {
   "cell_type": "markdown",
   "metadata": {},
   "source": [
    "**Tee nyt tehtävä 9**\n",
    "\n",
    "## Useita ehtoja\n",
    "Usein if-lauseen vertailussa onkin useita vaihtoehtoja. Tällöin on kätevää pystyä samalla lauseella pystyä tarkastamaan erilaisia ehtoja. Tämä tehdään *elif*-komennoilla, jotka sijoittuvat if:n ja elsen väliin. Elif on lyhenne sanoista else if eli suomeksi 'tai sitten jos'."
   ]
  },
  {
   "cell_type": "code",
   "execution_count": 31,
   "metadata": {},
   "outputs": [
    {
     "name": "stdout",
     "output_type": "stream",
     "text": [
      "KooKoo!\n"
     ]
    }
   ],
   "source": [
    "kaupunki = 'Kouvola'\n",
    "if kaupunki == 'Lahti':\n",
    "    print('Se on Lahti!')\n",
    "elif kaupunki == 'Tampere':\n",
    "    print('Mansesta pesee nääs!')\n",
    "elif kaupunki == 'Kouvola':\n",
    "    print('KooKoo!')\n",
    "else:\n",
    "    print('Kaupunki ei ollut Lahti, Tampere eikä Kouvola.')"
   ]
  },
  {
   "cell_type": "markdown",
   "metadata": {},
   "source": [
    "If-elif-else-lauseessa vaihtoehdot käydään läpi yksi kerrallaan ylhäältä alas. Heti kun yksikin ehto toteutuu, vaihtoehtojen tarkastaminen lopetetaan ja suoritetaan se lohko, jonka kohdalla ehto oli tosi. \n",
    "\n",
    "## Numeroiden vertailu\n",
    "Numeroiden vertailussa voidaan käyttää vertailuoperaattoreita \n",
    "* *==* yhtä suuri kuin (toimii myös tekstiä vertaillessa)\n",
    "* *!=* eri suuri kuin (toimii myös tekstiä vertaillessa)\n",
    "* *<* pienempi kuin\n",
    "* *>* suurempi kuin\n",
    "* *<=* pienempi tai yhtä suuri kuin\n",
    "* *>=* suurempi tai yhtä suuri kuin\n",
    "\n",
    "Katsotaan esimerkkejä numeroiden vertailusta:"
   ]
  },
  {
   "cell_type": "code",
   "execution_count": 15,
   "metadata": {},
   "outputs": [
    {
     "data": {
      "text/plain": [
       "True"
      ]
     },
     "execution_count": 15,
     "metadata": {},
     "output_type": "execute_result"
    }
   ],
   "source": [
    "2 == 2 # Tosi\n",
    "4 != 2 # Tosi, neljä on eri suuri kuin kaksi\n",
    "2 < 3 # Tosi\n",
    "2 <= 3 # Tosi\n",
    "3 < 3 # Epätosi, kolme ei ole pienempi kuin kolme\n",
    "3 <= 3 # Tosi, kolme on pienempi tai yhtä suuri kuin kolme, koska se on yhtä suuri\n",
    "7 > 5 # Tosi\n",
    "7 >= 5 # Tosi"
   ]
  },
  {
   "cell_type": "markdown",
   "metadata": {},
   "source": [
    "Kokeillaanpa pyytää käyttäjältä tietoa hänen kengännumerostaan ja vertaillaan sitä lukuun 45. Jos käyttäjän kengännumero on suurempi kuin 45, tulostetaan 'Aika isot kengät!'"
   ]
  },
  {
   "cell_type": "code",
   "execution_count": 27,
   "metadata": {},
   "outputs": [
    {
     "name": "stdout",
     "output_type": "stream",
     "text": [
      "Mikä on kengännumerosi? 47\n"
     ]
    },
    {
     "ename": "TypeError",
     "evalue": "'>' not supported between instances of 'str' and 'int'",
     "output_type": "error",
     "traceback": [
      "\u001b[1;31m---------------------------------------------------------------------------\u001b[0m",
      "\u001b[1;31mTypeError\u001b[0m                                 Traceback (most recent call last)",
      "\u001b[1;32m<ipython-input-27-c4a533202cd5>\u001b[0m in \u001b[0;36m<module>\u001b[1;34m()\u001b[0m\n\u001b[0;32m      1\u001b[0m \u001b[0mkengannumero\u001b[0m \u001b[1;33m=\u001b[0m \u001b[0minput\u001b[0m\u001b[1;33m(\u001b[0m\u001b[1;34m'Mikä on kengännumerosi? '\u001b[0m\u001b[1;33m)\u001b[0m\u001b[1;33m\u001b[0m\u001b[0m\n\u001b[0;32m      2\u001b[0m \u001b[1;33m\u001b[0m\u001b[0m\n\u001b[1;32m----> 3\u001b[1;33m \u001b[1;32mif\u001b[0m \u001b[0mkengannumero\u001b[0m \u001b[1;33m>\u001b[0m \u001b[1;36m45\u001b[0m\u001b[1;33m:\u001b[0m\u001b[1;33m\u001b[0m\u001b[0m\n\u001b[0m\u001b[0;32m      4\u001b[0m     \u001b[0mprint\u001b[0m\u001b[1;33m(\u001b[0m\u001b[1;34m'Aika isot kengät!'\u001b[0m\u001b[1;33m)\u001b[0m\u001b[1;33m\u001b[0m\u001b[0m\n",
      "\u001b[1;31mTypeError\u001b[0m: '>' not supported between instances of 'str' and 'int'"
     ]
    }
   ],
   "source": [
    "kengannumero = input('Mikä on kengännumerosi? ')\n",
    "\n",
    "if kengannumero > 45:\n",
    "    print('Aika isot kengät!')"
   ]
  },
  {
   "cell_type": "markdown",
   "metadata": {},
   "source": [
    "Kääk! Monimutkainen virhe! Virhettä ei tarvitse ymmärtää tarkalleen: pohjimmiltaan se sanoo, että tekstiä '47' ja lukua 45 ei voi vertailla.\n",
    "\n",
    "Funktion input tuloksena oleva syöte on tekstiä. Jotta vertailu onnistuu, muutetaan syöte eli teksti '47' ensin muuttaa luvuksi 47. Tämä onnistuu funktiolla *int()*."
   ]
  },
  {
   "cell_type": "code",
   "execution_count": 28,
   "metadata": {},
   "outputs": [
    {
     "name": "stdout",
     "output_type": "stream",
     "text": [
      "Mikä on kengännumerosi? 47\n",
      "Aika isot kengät!\n"
     ]
    }
   ],
   "source": [
    "kengannumero = input('Mikä on kengännumerosi? ')\n",
    "\n",
    "# Muunnetaan muuttuja kengannumero tekstistä numeroksi\n",
    "kengannumero = int(kengannumero)\n",
    "\n",
    "if kengannumero > 45:\n",
    "    print('Aika isot kengät!')"
   ]
  },
  {
   "cell_type": "markdown",
   "metadata": {},
   "source": [
    "No nyt toimii!\n",
    "\n",
    "**Tee nyt tehtävä 10.**\n",
    "\n",
    "## Silmukan lopettaminen\n",
    "Joskus while-silmukka olisi hyvä lopettaa ennenaikaisesti. Tämä onnistuu komennolla *break*. Kun komento annetaan, silmukan suoritus päättyy, ja koodin suoritusta jatketaan silmukan jälkeisiltä riveiltä. Seuraavassa on yksinkertainen erimerkki, jossa käyttäjää pyydetään kymmenen kertaa kirjoittamaan syötteitä. Silmukka kuitenkin lopetetaan heti, jos käyttäjä syöttää sanan 'loppu'."
   ]
  },
  {
   "cell_type": "code",
   "execution_count": 30,
   "metadata": {},
   "outputs": [
    {
     "name": "stdout",
     "output_type": "stream",
     "text": [
      "Syötä sana (loppu lopettaa) pöytä\n",
      "Syötä sana (loppu lopettaa) tuoli\n",
      "Syötä sana (loppu lopettaa) loppu\n"
     ]
    }
   ],
   "source": [
    "i = 1\n",
    "while i <= 10:\n",
    "    syote = input('Syötä sana (loppu lopettaa) ')\n",
    "    if syote == 'loppu':\n",
    "        break    \n",
    "    i = i + 1"
   ]
  },
  {
   "cell_type": "markdown",
   "metadata": {},
   "source": [
    "**Tee nyt tehtävä 11.**\n",
    "\n",
    "## Tämä oli vasta alkua\n",
    "Wau! Olet nyt oppinut jo aika monta tärkeää taitoa, joita kaikki koodarit käyttävät joka päivä: tulostamaan tekstiä, käyttämään muuttujia, lukemaan käyttäjän syötteitä, toistamaan koodia silmukalla ja suorittamaan koodin eri osia käyttäen ehtolauseita. Mahtavaa!\n",
    "\n",
    "Jos innostuit, sinua ehkä kiinnostavat Pythonin ne monet ominaisuudet, joita emme vielä käsitelleet: funktiot, ehtojen yhdisteleminen, for-silmukka, tietotyypit, listat, sanakirjat, tiedostojen käsittely, poikkeukset, oliot ja modulit.\n",
    "\n",
    "Suomeksi löydät tietoa esimerkiksi Teemu Sirkiän opetusmateriaalista *Ohjelmoinnin perusteet Pythonilla* osoitteesta\n",
    "http://www.cs.hut.fi/~ttsirkia/Python.pdf.\n",
    "\n",
    "Jos haluat jatkaa Pythonin oppimista ja puhut englantia, hyvää materiaalia on esimerkiksi w3schoolsilla: https://www.w3schools.com/python/\n",
    "\n",
    "Suomeksi voit jatkaa ohjelmoinnin opiskelua esimerkiksi kaikille avoimella ja ilmaisella Ohjelmoinnin MOOCilla. Sen ja muita avoimia verkkokursseja löydät osoitteesta https://www.mooc.fi/.\n",
    "\n",
    "## Oheistiedot\n",
    "21.11.2019\n",
    "Materiaali: Mikko Kotola\n",
    "[MIT-lisenssi](https://fi.wikipedia.org/wiki/MIT-lisenssi): Materiaalia (mukaan lukien koodi) voi vapaasti käyttää, kopioida, muokata, yhdistellä, julkaista ja jaella, kunhan oikeudet ja lisenssi seuraavat materiaalin mukana. Ohjelmistoilla ei ole mitään takuuta."
   ]
  }
 ],
 "metadata": {
  "kernelspec": {
   "display_name": "Python 3",
   "language": "python",
   "name": "python3"
  },
  "language_info": {
   "codemirror_mode": {
    "name": "ipython",
    "version": 3
   },
   "file_extension": ".py",
   "mimetype": "text/x-python",
   "name": "python",
   "nbconvert_exporter": "python",
   "pygments_lexer": "ipython3",
   "version": "3.6.5"
  }
 },
 "nbformat": 4,
 "nbformat_minor": 2
}
